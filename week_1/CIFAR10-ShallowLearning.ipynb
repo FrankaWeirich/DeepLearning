{
  "cells": [
    {
      "cell_type": "markdown",
      "metadata": {
        "id": "P7t4Y8D_BxLK"
      },
      "source": [
        "# Lab 1: CIFAR10 Challenge\n",
        "\n",
        "**CIFAR10** (http://www.cs.toronto.edu/~kriz/cifar.html) is one of the most famous ML data sets. \n",
        "\n",
        "## Data\n",
        "* 32x32 color images\n",
        "* in 10 classes\n",
        "* 50k training images\n",
        "* 10k test images\n",
        "\n"
      ]
    },
    {
      "cell_type": "markdown",
      "metadata": {
        "id": "a8-2lrE9BxLR"
      },
      "source": [
        "<img src=\"https://production-media.paperswithcode.com/datasets/CIFAR-10-0000000431-b71f61c0_U5n3Glr.jpg\" width=700>"
      ]
    },
    {
      "cell_type": "code",
      "execution_count": 11,
      "metadata": {
        "id": "owj3QsH2BxLS"
      },
      "outputs": [],
      "source": [
        "#get data\n",
        "from keras.datasets import cifar10\n",
        "(X_train, y_train), (X_test, y_test) = cifar10.load_data()"
      ]
    },
    {
      "cell_type": "code",
      "execution_count": 12,
      "metadata": {
        "colab": {
          "base_uri": "https://localhost:8080/"
        },
        "id": "gFjmpalPBxLW",
        "outputId": "88b42dac-fb60-44ec-fca0-8649949e062a"
      },
      "outputs": [
        {
          "output_type": "execute_result",
          "data": {
            "text/plain": [
              "(50000, 32, 32, 3)"
            ]
          },
          "metadata": {},
          "execution_count": 12
        }
      ],
      "source": [
        "#traindata: 50k 32X32 rgb images\n",
        "X_train.shape"
      ]
    },
    {
      "cell_type": "code",
      "execution_count": 13,
      "metadata": {
        "colab": {
          "base_uri": "https://localhost:8080/"
        },
        "id": "CtB2ZlTkBxLW",
        "outputId": "adad68f2-6ccd-4ae8-c4b5-b9f4e1fa0230"
      },
      "outputs": [
        {
          "output_type": "execute_result",
          "data": {
            "text/plain": [
              "array([[6],\n",
              "       [9],\n",
              "       [9],\n",
              "       ...,\n",
              "       [9],\n",
              "       [1],\n",
              "       [1]], dtype=uint8)"
            ]
          },
          "metadata": {},
          "execution_count": 13
        }
      ],
      "source": [
        "#labels\n",
        "y_train"
      ]
    },
    {
      "cell_type": "markdown",
      "source": [
        "## Task: build the best classifier (with feature extration) using the methods you know from ML1+2\n",
        "* work in small teams (2-4)\n",
        "* use NumPy pre-processing, feature extraction and hyer-parameter tuning in Scikit-Learn\n",
        "* no Neural Networks! \n",
        "* best test F1-Score after 90min winns! "
      ],
      "metadata": {
        "id": "9rEXJUhVCmvB"
      }
    },
    {
      "cell_type": "code",
      "source": [
        "import pandas as pd\n",
        "import numpy as np\n",
        "from sklearn.ensemble import RandomForestClassifier\n",
        "from sklearn.metrics import f1_score\n",
        "from sklearn.preprocessing import StandardScaler\n",
        "from sklearn.preprocessing import Normalizer\n",
        "from sklearn.decomposition import PCA"
      ],
      "metadata": {
        "id": "lw6PAGcFwWPQ"
      },
      "execution_count": 14,
      "outputs": []
    },
    {
      "cell_type": "code",
      "source": [
        "Xnew = np.average(X_train, axis=(1,2))\n",
        "Xnew"
      ],
      "metadata": {
        "id": "6FXU5hLhDfUP",
        "outputId": "81deb32b-97c2-4263-c9cb-d57f23e5d029",
        "colab": {
          "base_uri": "https://localhost:8080/"
        }
      },
      "execution_count": 15,
      "outputs": [
        {
          "output_type": "execute_result",
          "data": {
            "text/plain": [
              "array([[141.20507812, 105.09960938,  64.03710938],\n",
              "       [130.19921875, 130.36523438, 130.47753906],\n",
              "       [133.484375  , 135.15234375, 132.58496094],\n",
              "       ...,\n",
              "       [ 82.53027344, 109.65039062, 122.93359375],\n",
              "       [162.17480469, 168.83398438, 177.32128906],\n",
              "       [138.75292969, 129.59667969, 127.29101562]])"
            ]
          },
          "metadata": {},
          "execution_count": 15
        }
      ]
    },
    {
      "cell_type": "code",
      "source": [
        "X_trainTEST = X_train.reshape(50000,32*32*3)\n",
        "X_trainTEST.shape"
      ],
      "metadata": {
        "id": "GLurFO5NNcNO",
        "outputId": "90362f38-0e9d-41a5-c021-53197bf2156c",
        "colab": {
          "base_uri": "https://localhost:8080/"
        }
      },
      "execution_count": 16,
      "outputs": [
        {
          "output_type": "execute_result",
          "data": {
            "text/plain": [
              "(50000, 3072)"
            ]
          },
          "metadata": {},
          "execution_count": 16
        }
      ]
    },
    {
      "cell_type": "code",
      "source": [
        "clf = RandomForestClassifier(max_depth=200, random_state=0)\n",
        "clf.fit(Xnew, y_train)\n",
        "y_pred = clf.predict(np.average(X_test, axis=(1,2)))\n",
        "f1_score(y_test, y_pred, average=None).mean()\n",
        "\n",
        "#bei allen\n",
        "#array([0.55616032, 0.53646598, 0.34526991, 0.31969027, 0.39822573,\n",
        "#       0.41167435, 0.51486054, 0.48090371, 0.58903445, 0.51568266])\n",
        "\n",
        "#array([0.35953979, 0.21610805, 0.14511729, 0.16129032, 0.18042813,\n",
        "#       0.13965607, 0.26396917, 0.17206478, 0.32496577, 0.17831814])\n",
        "\n",
        "#0.2141457518789661"
      ],
      "metadata": {
        "id": "uM12yzOewzGA",
        "outputId": "9bff0150-94f4-4735-b08b-719559415b7f",
        "colab": {
          "base_uri": "https://localhost:8080/"
        }
      },
      "execution_count": 17,
      "outputs": [
        {
          "output_type": "stream",
          "name": "stderr",
          "text": [
            "/usr/local/lib/python3.7/dist-packages/ipykernel_launcher.py:2: DataConversionWarning: A column-vector y was passed when a 1d array was expected. Please change the shape of y to (n_samples,), for example using ravel().\n",
            "  \n"
          ]
        },
        {
          "output_type": "execute_result",
          "data": {
            "text/plain": [
              "0.2141457518789661"
            ]
          },
          "metadata": {},
          "execution_count": 17
        }
      ]
    },
    {
      "cell_type": "code",
      "source": [
        "# Version 2\n",
        "scaler = StandardScaler()\n",
        "scaler.fit_transform(X_trainTEST, y_train)\n",
        "\n",
        "\n",
        "Normalizer().fit_transform(X_trainTEST)\n",
        "Normalizer().fit_transform(y_train)"
      ],
      "metadata": {
        "id": "tJWIMlZuNGuE",
        "outputId": "716dd2b8-7c43-4814-fcf9-f375c4f599e2",
        "colab": {
          "base_uri": "https://localhost:8080/"
        }
      },
      "execution_count": 18,
      "outputs": [
        {
          "output_type": "execute_result",
          "data": {
            "text/plain": [
              "array([[1.],\n",
              "       [1.],\n",
              "       [1.],\n",
              "       ...,\n",
              "       [1.],\n",
              "       [1.],\n",
              "       [1.]])"
            ]
          },
          "metadata": {},
          "execution_count": 18
        }
      ]
    },
    {
      "cell_type": "code",
      "source": [
        "pca = PCA(n_components=40)\n",
        "pca.fit(X_trainTEST)\n",
        "X_test = pca.transform(X_test.reshape(10000,32*32*3))\n",
        "X_trainTEST = pca.transform(X_trainTEST)"
      ],
      "metadata": {
        "id": "OB-_GvVQNhym"
      },
      "execution_count": 19,
      "outputs": []
    },
    {
      "cell_type": "code",
      "source": [
        "clf = RandomForestClassifier(random_state=21, n_estimators=1000)\n",
        "clf.fit(X_trainTEST, y_train)\n",
        "y_pred = clf.predict(X_test)\n",
        "f1_score(y_test, y_pred, average=None).mean()\n",
        "\n",
        "#0.4888242754637207"
      ],
      "metadata": {
        "id": "2ol-R9RINtwT",
        "outputId": "ea54d11b-f906-4b29-91b7-91d2fd7cefe7",
        "colab": {
          "base_uri": "https://localhost:8080/"
        }
      },
      "execution_count": 21,
      "outputs": [
        {
          "output_type": "stream",
          "name": "stderr",
          "text": [
            "/usr/local/lib/python3.7/dist-packages/ipykernel_launcher.py:2: DataConversionWarning: A column-vector y was passed when a 1d array was expected. Please change the shape of y to (n_samples,), for example using ravel().\n",
            "  \n"
          ]
        },
        {
          "output_type": "execute_result",
          "data": {
            "text/plain": [
              "0.4888242754637207"
            ]
          },
          "metadata": {},
          "execution_count": 21
        }
      ]
    }
  ],
  "metadata": {
    "kernelspec": {
      "display_name": "Python 3",
      "language": "python",
      "name": "python3"
    },
    "language_info": {
      "codemirror_mode": {
        "name": "ipython",
        "version": 3
      },
      "file_extension": ".py",
      "mimetype": "text/x-python",
      "name": "python",
      "nbconvert_exporter": "python",
      "pygments_lexer": "ipython3",
      "version": "3.7.6"
    },
    "colab": {
      "name": "CIFAR10-ShallowLearning.ipynb",
      "provenance": []
    }
  },
  "nbformat": 4,
  "nbformat_minor": 0
}